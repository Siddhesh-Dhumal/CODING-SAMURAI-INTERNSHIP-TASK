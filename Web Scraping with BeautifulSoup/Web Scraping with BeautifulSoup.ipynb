{
 "cells": [
  {
   "cell_type": "markdown",
   "id": "bc3d3b87-638c-47e0-9b6c-ce96fa9c7c2b",
   "metadata": {},
   "source": [
    "# Web Scraping with BeautifulSoup"
   ]
  },
  {
   "cell_type": "code",
   "execution_count": 2,
   "id": "2c8dc53c-144a-416b-a94c-86b769f7b00c",
   "metadata": {},
   "outputs": [],
   "source": [
    "# 📌 Step 1: Import Libraries\n",
    "import requests\n",
    "from bs4 import BeautifulSoup\n",
    "import csv"
   ]
  },
  {
   "cell_type": "code",
   "execution_count": 3,
   "id": "bf8e65af-0d31-4d4a-9349-4f1ce81e4bbb",
   "metadata": {},
   "outputs": [
    {
     "name": "stdout",
     "output_type": "stream",
     "text": [
      "✅ Successfully fetched webpage!\n"
     ]
    }
   ],
   "source": [
    "# 📌 Step 2: Fetch a Webpage\n",
    "# We'll scrape Hacker News (https://news.ycombinator.com/) for headlines\n",
    "\n",
    "url = \"https://news.ycombinator.com/\"\n",
    "response = requests.get(url)\n",
    "\n",
    "# Check if request was successful\n",
    "if response.status_code == 200:\n",
    "    print(\"✅ Successfully fetched webpage!\")\n",
    "else:\n",
    "    print(\"❌ Failed to fetch webpage. Status:\", response.status_code)"
   ]
  },
  {
   "cell_type": "code",
   "execution_count": 4,
   "id": "b514896d-2921-4f80-a7f5-cd87d3586d88",
   "metadata": {},
   "outputs": [
    {
     "name": "stdout",
     "output_type": "stream",
     "text": [
      "Found 30 headlines!\n"
     ]
    }
   ],
   "source": [
    "# 📌 Step 3: Parse HTML with BeautifulSoup\n",
    "soup = BeautifulSoup(response.text, \"html.parser\")\n",
    "\n",
    "# Find all headlines (on Hacker News, headlines are inside <a class=\"storylink\"> but site changes sometimes)\n",
    "headlines = soup.find_all(\"span\", class_=\"titleline\")\n",
    "\n",
    "print(f\"Found {len(headlines)} headlines!\")"
   ]
  },
  {
   "cell_type": "code",
   "execution_count": 5,
   "id": "25269de0-b612-454b-922c-b7240a095e82",
   "metadata": {},
   "outputs": [
    {
     "data": {
      "text/plain": [
       "[['Almost anything you give sustained attention to will begin to loop on itself(henrikkarlsson.xyz)',\n",
       "  'https://www.henrikkarlsson.xyz/p/attention'],\n",
       " ['Le Chat. Custom MCP Connectors. Memories(mistral.ai)',\n",
       "  'https://mistral.ai/news/le-chat-mcp-connectors-memories'],\n",
       " ['30 minutes with a stranger(pudding.cool)',\n",
       "  'https://pudding.cool/2025/06/hello-stranger/'],\n",
       " ['Inverting the Xorshift128 random number generator(littlemaninmyhead.wordpress.com)',\n",
       "  'https://littlemaninmyhead.wordpress.com/2025/08/31/inverting-the-xorshift128-random-number-generator/'],\n",
       " ['Use Bayes rule to mechanically solve probability riddles(disroot.org)',\n",
       "  'https://cloud.disroot.org/s/Ec4xTMFDteTrFio']]"
      ]
     },
     "execution_count": 5,
     "metadata": {},
     "output_type": "execute_result"
    }
   ],
   "source": [
    "# 📌 Step 4: Extract and Store Headlines\n",
    "news_data = []\n",
    "\n",
    "for h in headlines:\n",
    "    title = h.get_text(strip=True)\n",
    "    link = h.find(\"a\")[\"href\"]\n",
    "    news_data.append([title, link])\n",
    "\n",
    "# Show first 5 headlines\n",
    "news_data[:5]"
   ]
  },
  {
   "cell_type": "code",
   "execution_count": 6,
   "id": "b1f3edf7-ae10-45d3-a208-6b85f8341284",
   "metadata": {},
   "outputs": [
    {
     "name": "stdout",
     "output_type": "stream",
     "text": [
      "✅ Saved 30 headlines to news_headlines.csv\n"
     ]
    }
   ],
   "source": [
    "# 📌 Step 5: Save Data to CSV\n",
    "filename = \"news_headlines.csv\"\n",
    "\n",
    "with open(filename, \"w\", newline=\"\", encoding=\"utf-8\") as f:\n",
    "    writer = csv.writer(f)\n",
    "    writer.writerow([\"Title\", \"Link\"])   # Header row\n",
    "    writer.writerows(news_data)\n",
    "\n",
    "print(f\"✅ Saved {len(news_data)} headlines to {filename}\")"
   ]
  },
  {
   "cell_type": "code",
   "execution_count": null,
   "id": "b9ebc38f-90ac-46c3-9c4c-447bab26be9d",
   "metadata": {},
   "outputs": [],
   "source": []
  }
 ],
 "metadata": {
  "kernelspec": {
   "display_name": "Python [conda env:base] *",
   "language": "python",
   "name": "conda-base-py"
  },
  "language_info": {
   "codemirror_mode": {
    "name": "ipython",
    "version": 3
   },
   "file_extension": ".py",
   "mimetype": "text/x-python",
   "name": "python",
   "nbconvert_exporter": "python",
   "pygments_lexer": "ipython3",
   "version": "3.13.5"
  }
 },
 "nbformat": 4,
 "nbformat_minor": 5
}
