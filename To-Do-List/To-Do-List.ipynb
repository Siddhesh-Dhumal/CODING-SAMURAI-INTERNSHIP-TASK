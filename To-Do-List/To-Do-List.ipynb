{
 "cells": [
  {
   "cell_type": "markdown",
   "id": "c50f2b44-5a62-4194-b451-e2124d06a192",
   "metadata": {},
   "source": [
    "# 📌 Smart To-Do List\n",
    "# Features:\n",
    "#   ✅ Add Task\n",
    "#   ✅ View Tasks\n",
    "#   ✅ Mark Task as Done\n",
    "#   ✅ Delete Task\n",
    "#   ✅ Save & Load from file (persistent storage)"
   ]
  },
  {
   "cell_type": "code",
   "execution_count": 1,
   "id": "f7653605-b41d-44e4-a178-911074b49d55",
   "metadata": {},
   "outputs": [],
   "source": [
    "import os"
   ]
  },
  {
   "cell_type": "code",
   "execution_count": 2,
   "id": "243500d9-9820-48e5-b287-f62d5a2005d8",
   "metadata": {},
   "outputs": [],
   "source": [
    "# File to store tasks (it will be created in the same folder as your notebook)\n",
    "FILENAME = \"tasks.txt\"\n",
    "\n",
    "# Our task list will be stored as a list of dictionaries\n",
    "# Example: [{\"task\": \"Do homework\", \"done\": False}, {\"task\": \"Exercise\", \"done\": True}]\n",
    "tasks = []"
   ]
  },
  {
   "cell_type": "code",
   "execution_count": 3,
   "id": "e3957cf8-b2e2-4480-93b7-43a007b28390",
   "metadata": {},
   "outputs": [],
   "source": [
    "# 📌 Load tasks from file if it exists\n",
    "def load_tasks():\n",
    "    global tasks\n",
    "    if os.path.exists(FILENAME):  # Check if tasks.txt exists\n",
    "        with open(FILENAME, \"r\") as f:\n",
    "            for line in f:\n",
    "                task, status = line.strip().split(\"|\")   # Format: task|True/False\n",
    "                tasks.append({\"task\": task, \"done\": status == \"True\"})\n"
   ]
  },
  {
   "cell_type": "code",
   "execution_count": 4,
   "id": "d345c4a0-fe4c-4fe3-97ce-24dfe7efe24f",
   "metadata": {},
   "outputs": [],
   "source": [
    "# 📌 Save tasks to file\n",
    "def save_tasks():\n",
    "    with open(FILENAME, \"w\") as f:\n",
    "        for t in tasks:\n",
    "            # Each line looks like: Task name|True\n",
    "            f.write(f\"{t['task']}|{t['done']}\\n\")\n"
   ]
  },
  {
   "cell_type": "code",
   "execution_count": 5,
   "id": "7d5b41fc-268d-4aca-b4aa-60ae4f6c5ced",
   "metadata": {},
   "outputs": [],
   "source": [
    "# 📌 Show all tasks\n",
    "def show_tasks():\n",
    "    if not tasks:\n",
    "        print(\"\\n✅ No tasks yet!\")\n",
    "    else:\n",
    "        print(\"\\n📋 Your Tasks:\")\n",
    "        for i, t in enumerate(tasks, start=1):\n",
    "            status = \"✅ Done\" if t[\"done\"] else \"❌ Not Done\"\n",
    "            print(f\"{i}. {t['task']} - {status}\")\n"
   ]
  },
  {
   "cell_type": "code",
   "execution_count": 6,
   "id": "c4e39196-0c67-44cf-a407-e1abb29d50b5",
   "metadata": {},
   "outputs": [],
   "source": [
    "# 📌 Add a new task\n",
    "def add_task():\n",
    "    task = input(\"Enter a new task: \")\n",
    "    tasks.append({\"task\": task, \"done\": False})\n",
    "    save_tasks()   # Save immediately so we don't lose it\n",
    "    print(\"✅ Task added!\")\n"
   ]
  },
  {
   "cell_type": "code",
   "execution_count": 7,
   "id": "2733229a-e3b9-4f95-9284-b60787091cb2",
   "metadata": {},
   "outputs": [],
   "source": [
    "# 📌 Mark a task as Done\n",
    "def mark_done():\n",
    "    show_tasks()\n",
    "    try:\n",
    "        num = int(input(\"\\nEnter task number to mark as done: \"))\n",
    "        if 1 <= num <= len(tasks):\n",
    "            tasks[num-1][\"done\"] = True\n",
    "            save_tasks()\n",
    "            print(\"✅ Task marked as done!\")\n",
    "        else:\n",
    "            print(\"❌ Invalid number.\")\n",
    "    except ValueError:\n",
    "        print(\"❌ Please enter a number.\")\n"
   ]
  },
  {
   "cell_type": "code",
   "execution_count": 8,
   "id": "7873eff3-9be9-4e2b-bad9-4e8ef53767e7",
   "metadata": {},
   "outputs": [],
   "source": [
    "# 📌 Delete a task\n",
    "def delete_task():\n",
    "    show_tasks()\n",
    "    try:\n",
    "        num = int(input(\"\\nEnter task number to delete: \"))\n",
    "        if 1 <= num <= len(tasks):\n",
    "            removed = tasks.pop(num-1)\n",
    "            save_tasks()\n",
    "            print(f\"🗑️ Deleted task: {removed['task']}\")\n",
    "        else:\n",
    "            print(\"❌ Invalid number.\")\n",
    "    except ValueError:\n",
    "        print(\"❌ Please enter a number.\")\n"
   ]
  },
  {
   "cell_type": "code",
   "execution_count": 9,
   "id": "4c69f565-c5ec-47ca-9187-659d4f07e95f",
   "metadata": {},
   "outputs": [],
   "source": [
    "# 📌 Main menu function (loop until user exits)\n",
    "def main():\n",
    "    load_tasks()  # Load tasks at the start\n",
    "    while True:\n",
    "        print(\"\\n--- To-Do List Menu ---\")\n",
    "        print(\"1. View Tasks\")\n",
    "        print(\"2. Add Task\")\n",
    "        print(\"3. Mark Task as Done\")\n",
    "        print(\"4. Delete Task\")\n",
    "        print(\"5. Exit\")\n",
    "\n",
    "        choice = input(\"Choose an option: \")\n",
    "\n",
    "        if choice == \"1\":\n",
    "            show_tasks()\n",
    "        elif choice == \"2\":\n",
    "            add_task()\n",
    "        elif choice == \"3\":\n",
    "            mark_done()\n",
    "        elif choice == \"4\":\n",
    "            delete_task()\n",
    "        elif choice == \"5\":\n",
    "            print(\"👋 Exiting... Goodbye!\")\n",
    "            break\n",
    "        else:\n",
    "            print(\"❌ Invalid choice, try again.\")\n"
   ]
  },
  {
   "cell_type": "code",
   "execution_count": 10,
   "id": "147463d8-b32f-4a2c-85b1-c7e7f62b8882",
   "metadata": {},
   "outputs": [
    {
     "name": "stdout",
     "output_type": "stream",
     "text": [
      "\n",
      "--- To-Do List Menu ---\n",
      "1. View Tasks\n",
      "2. Add Task\n",
      "3. Mark Task as Done\n",
      "4. Delete Task\n",
      "5. Exit\n"
     ]
    },
    {
     "name": "stdin",
     "output_type": "stream",
     "text": [
      "Choose an option:  1\n"
     ]
    },
    {
     "name": "stdout",
     "output_type": "stream",
     "text": [
      "\n",
      "✅ No tasks yet!\n",
      "\n",
      "--- To-Do List Menu ---\n",
      "1. View Tasks\n",
      "2. Add Task\n",
      "3. Mark Task as Done\n",
      "4. Delete Task\n",
      "5. Exit\n"
     ]
    },
    {
     "name": "stdin",
     "output_type": "stream",
     "text": [
      "Choose an option:  2\n",
      "Enter a new task:  HomeWork-2p.m to 3p.m.\n"
     ]
    },
    {
     "name": "stdout",
     "output_type": "stream",
     "text": [
      "✅ Task added!\n",
      "\n",
      "--- To-Do List Menu ---\n",
      "1. View Tasks\n",
      "2. Add Task\n",
      "3. Mark Task as Done\n",
      "4. Delete Task\n",
      "5. Exit\n"
     ]
    },
    {
     "name": "stdin",
     "output_type": "stream",
     "text": [
      "Choose an option:  1\n"
     ]
    },
    {
     "name": "stdout",
     "output_type": "stream",
     "text": [
      "\n",
      "📋 Your Tasks:\n",
      "1. HomeWork-2p.m to 3p.m. - ❌ Not Done\n",
      "\n",
      "--- To-Do List Menu ---\n",
      "1. View Tasks\n",
      "2. Add Task\n",
      "3. Mark Task as Done\n",
      "4. Delete Task\n",
      "5. Exit\n"
     ]
    },
    {
     "name": "stdin",
     "output_type": "stream",
     "text": [
      "Choose an option:  3\n"
     ]
    },
    {
     "name": "stdout",
     "output_type": "stream",
     "text": [
      "\n",
      "📋 Your Tasks:\n",
      "1. HomeWork-2p.m to 3p.m. - ❌ Not Done\n"
     ]
    },
    {
     "name": "stdin",
     "output_type": "stream",
     "text": [
      "\n",
      "Enter task number to mark as done:  1\n"
     ]
    },
    {
     "name": "stdout",
     "output_type": "stream",
     "text": [
      "✅ Task marked as done!\n",
      "\n",
      "--- To-Do List Menu ---\n",
      "1. View Tasks\n",
      "2. Add Task\n",
      "3. Mark Task as Done\n",
      "4. Delete Task\n",
      "5. Exit\n"
     ]
    },
    {
     "name": "stdin",
     "output_type": "stream",
     "text": [
      "Choose an option:  1\n"
     ]
    },
    {
     "name": "stdout",
     "output_type": "stream",
     "text": [
      "\n",
      "📋 Your Tasks:\n",
      "1. HomeWork-2p.m to 3p.m. - ✅ Done\n",
      "\n",
      "--- To-Do List Menu ---\n",
      "1. View Tasks\n",
      "2. Add Task\n",
      "3. Mark Task as Done\n",
      "4. Delete Task\n",
      "5. Exit\n"
     ]
    },
    {
     "name": "stdin",
     "output_type": "stream",
     "text": [
      "Choose an option:  4\n"
     ]
    },
    {
     "name": "stdout",
     "output_type": "stream",
     "text": [
      "\n",
      "📋 Your Tasks:\n",
      "1. HomeWork-2p.m to 3p.m. - ✅ Done\n"
     ]
    },
    {
     "name": "stdin",
     "output_type": "stream",
     "text": [
      "\n",
      "Enter task number to delete:  1\n"
     ]
    },
    {
     "name": "stdout",
     "output_type": "stream",
     "text": [
      "🗑️ Deleted task: HomeWork-2p.m to 3p.m.\n",
      "\n",
      "--- To-Do List Menu ---\n",
      "1. View Tasks\n",
      "2. Add Task\n",
      "3. Mark Task as Done\n",
      "4. Delete Task\n",
      "5. Exit\n"
     ]
    },
    {
     "name": "stdin",
     "output_type": "stream",
     "text": [
      "Choose an option:  1\n"
     ]
    },
    {
     "name": "stdout",
     "output_type": "stream",
     "text": [
      "\n",
      "✅ No tasks yet!\n",
      "\n",
      "--- To-Do List Menu ---\n",
      "1. View Tasks\n",
      "2. Add Task\n",
      "3. Mark Task as Done\n",
      "4. Delete Task\n",
      "5. Exit\n"
     ]
    },
    {
     "name": "stdin",
     "output_type": "stream",
     "text": [
      "Choose an option:  5\n"
     ]
    },
    {
     "name": "stdout",
     "output_type": "stream",
     "text": [
      "👋 Exiting... Goodbye!\n"
     ]
    }
   ],
   "source": [
    "# ▶️ Run the To-Do List Program\n",
    "main()"
   ]
  }
 ],
 "metadata": {
  "kernelspec": {
   "display_name": "Python [conda env:base] *",
   "language": "python",
   "name": "conda-base-py"
  },
  "language_info": {
   "codemirror_mode": {
    "name": "ipython",
    "version": 3
   },
   "file_extension": ".py",
   "mimetype": "text/x-python",
   "name": "python",
   "nbconvert_exporter": "python",
   "pygments_lexer": "ipython3",
   "version": "3.13.5"
  }
 },
 "nbformat": 4,
 "nbformat_minor": 5
}
