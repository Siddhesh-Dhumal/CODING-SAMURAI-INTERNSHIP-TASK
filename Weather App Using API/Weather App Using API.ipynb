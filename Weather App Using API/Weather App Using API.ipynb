{
 "cells": [
  {
   "cell_type": "markdown",
   "id": "225f3e47-7f10-4ab1-b192-5985a31246d3",
   "metadata": {},
   "source": [
    "# Weather App Using API (OpenWeatherMap)"
   ]
  },
  {
   "cell_type": "code",
   "execution_count": null,
   "id": "daec4d40-77cb-4d99-8d06-c5e4f6c15653",
   "metadata": {},
   "outputs": [],
   "source": [
    "# Step 1: Import necessary libraries\n",
    "import requests\n",
    "from datetime import datetime"
   ]
  },
  {
   "cell_type": "code",
   "execution_count": 8,
   "id": "a40ef52a-fc1d-4031-9aa4-43acdff86b85",
   "metadata": {},
   "outputs": [],
   "source": [
    "# Step 2: API Key \n",
    "API_KEY = \"fe0341d93f998789b5a8ddf583be970b\"  "
   ]
  },
  {
   "cell_type": "code",
   "execution_count": 9,
   "id": "4685942f-e496-4a03-9b52-1c41ee96c1b6",
   "metadata": {},
   "outputs": [],
   "source": [
    "# Step 3: function to fetch weather details\n",
    "def get_weather(city_name):\n",
    "    \"\"\"\n",
    "    Fetch current weather data for a given city using OpenWeatherMap API.\n",
    "    \"\"\"\n",
    "    # Build the request URL\n",
    "    url = f\"https://api.openweathermap.org/data/2.5/weather?q={city_name}&appid={API_KEY}&units=metric\"\n",
    "    \n",
    "    # Make GET request\n",
    "    response = requests.get(url)\n",
    "    \n",
    "    if response.status_code == 200:\n",
    "        return response.json()\n",
    "    else:\n",
    "        print(\"Error:\", response.json().get(\"message\", \"Failed to fetch data\"))\n",
    "        return None\n"
   ]
  },
  {
   "cell_type": "code",
   "execution_count": 10,
   "id": "3deb8659-113d-4d04-88b7-936574679327",
   "metadata": {},
   "outputs": [],
   "source": [
    "# Step 4: Function to display weather data in a user-friendly way\n",
    "def show_weather(data, city_name):\n",
    "    \"\"\"\n",
    "    Display weather details in a formatted way.\n",
    "    \"\"\"\n",
    "    if data:\n",
    "        main = data['main']\n",
    "        wind = data['wind']\n",
    "        weather = data['weather'][0]\n",
    "        \n",
    "        current_time = datetime.now().strftime(\"%Y-%m-%d %H:%M:%S\")\n",
    "        \n",
    "        print(f\"------ Weather Report for {city_name.title()} ------\")\n",
    "        print(f\"Date & Time : {current_time}\")\n",
    "        print(f\"Weather     : {weather['description'].title()}\")\n",
    "        print(f\"Temperature : {main['temp']}°C\")\n",
    "        print(f\"Feels Like  : {main['feels_like']}°C\")\n",
    "        print(f\"Humidity    : {main['humidity']}%\")\n",
    "        print(f\"Pressure    : {main['pressure']} hPa\")\n",
    "        print(f\"Wind Speed  : {wind['speed']} m/s\")\n",
    "        print(\"---------------------------------------------\")\n",
    "    else:\n",
    "        print(\"City not found or error fetching data.\")"
   ]
  },
  {
   "cell_type": "code",
   "execution_count": 11,
   "id": "59226fc7-7955-46a7-97d2-00920330ec46",
   "metadata": {},
   "outputs": [
    {
     "ename": "NameError",
     "evalue": "name 'requests' is not defined",
     "output_type": "error",
     "traceback": [
      "\u001b[1;31m---------------------------------------------------------------------------\u001b[0m",
      "\u001b[1;31mNameError\u001b[0m                                 Traceback (most recent call last)",
      "Cell \u001b[1;32mIn[11], line 3\u001b[0m\n\u001b[0;32m      1\u001b[0m \u001b[38;5;66;03m# Step 5: Take input from user and run the app\u001b[39;00m\n\u001b[0;32m      2\u001b[0m city \u001b[38;5;241m=\u001b[39m \u001b[38;5;28minput\u001b[39m(\u001b[38;5;124m\"\u001b[39m\u001b[38;5;124mEnter city name: \u001b[39m\u001b[38;5;124m\"\u001b[39m)\n\u001b[1;32m----> 3\u001b[0m weather_data \u001b[38;5;241m=\u001b[39m get_weather(city)\n\u001b[0;32m      4\u001b[0m show_weather(weather_data, city)\n",
      "Cell \u001b[1;32mIn[9], line 10\u001b[0m, in \u001b[0;36mget_weather\u001b[1;34m(city_name)\u001b[0m\n\u001b[0;32m      7\u001b[0m url \u001b[38;5;241m=\u001b[39m \u001b[38;5;124mf\u001b[39m\u001b[38;5;124m\"\u001b[39m\u001b[38;5;124mhttps://api.openweathermap.org/data/2.5/weather?q=\u001b[39m\u001b[38;5;132;01m{\u001b[39;00mcity_name\u001b[38;5;132;01m}\u001b[39;00m\u001b[38;5;124m&appid=\u001b[39m\u001b[38;5;132;01m{\u001b[39;00mAPI_KEY\u001b[38;5;132;01m}\u001b[39;00m\u001b[38;5;124m&units=metric\u001b[39m\u001b[38;5;124m\"\u001b[39m\n\u001b[0;32m      9\u001b[0m \u001b[38;5;66;03m# Make GET request\u001b[39;00m\n\u001b[1;32m---> 10\u001b[0m response \u001b[38;5;241m=\u001b[39m requests\u001b[38;5;241m.\u001b[39mget(url)\n\u001b[0;32m     12\u001b[0m \u001b[38;5;28;01mif\u001b[39;00m response\u001b[38;5;241m.\u001b[39mstatus_code \u001b[38;5;241m==\u001b[39m \u001b[38;5;241m200\u001b[39m:\n\u001b[0;32m     13\u001b[0m     \u001b[38;5;28;01mreturn\u001b[39;00m response\u001b[38;5;241m.\u001b[39mjson()\n",
      "\u001b[1;31mNameError\u001b[0m: name 'requests' is not defined"
     ]
    }
   ],
   "source": [
    "# Step 5: Take input from user and run the app\n",
    "city = input(\"Enter city name: \")\n",
    "weather_data = get_weather(city)\n",
    "show_weather(weather_data, city)"
   ]
  }
 ],
 "metadata": {
  "kernelspec": {
   "display_name": "base",
   "language": "python",
   "name": "python3"
  },
  "language_info": {
   "codemirror_mode": {
    "name": "ipython",
    "version": 3
   },
   "file_extension": ".py",
   "mimetype": "text/x-python",
   "name": "python",
   "nbconvert_exporter": "python",
   "pygments_lexer": "ipython3",
   "version": "3.13.5"
  }
 },
 "nbformat": 4,
 "nbformat_minor": 5
}
