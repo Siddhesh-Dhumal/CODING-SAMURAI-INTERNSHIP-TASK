{
 "cells": [
  {
   "cell_type": "markdown",
   "id": "225f3e47-7f10-4ab1-b192-5985a31246d3",
   "metadata": {},
   "source": [
    "# Weather App Using API (OpenWeatherMap)"
   ]
  },
  {
   "cell_type": "code",
   "execution_count": 8,
   "id": "daec4d40-77cb-4d99-8d06-c5e4f6c15653",
   "metadata": {},
   "outputs": [],
   "source": [
    "# Step 1: Import necessary libraries\n",
    "import requests\n",
    "from datetime import datetime"
   ]
  },
  {
   "cell_type": "code",
   "execution_count": 20,
   "id": "a40ef52a-fc1d-4031-9aa4-43acdff86b85",
   "metadata": {},
   "outputs": [],
   "source": [
    "# Step 2: API Key \n",
    "API_KEY = \"fe0341d93f998789b5a8ddf583be970b\"  "
   ]
  },
  {
   "cell_type": "code",
   "execution_count": 9,
   "id": "4685942f-e496-4a03-9b52-1c41ee96c1b6",
   "metadata": {},
   "outputs": [],
   "source": [
    "# Step 3: function to fetch weather details\n",
    "def get_weather(city_name):\n",
    "    \"\"\"\n",
    "    Fetch current weather data for a given city using OpenWeatherMap API.\n",
    "    \"\"\"\n",
    "    # Build the request URL\n",
    "    url = f\"https://api.openweathermap.org/data/2.5/weather?q={city_name}&appid={API_KEY}&units=metric\"\n",
    "    \n",
    "    # Make GET request\n",
    "    response = requests.get(url)\n",
    "    \n",
    "    if response.status_code == 200:\n",
    "        return response.json()\n",
    "    else:\n",
    "        print(\"Error:\", response.json().get(\"message\", \"Failed to fetch data\"))\n",
    "        return None\n"
   ]
  },
  {
   "cell_type": "code",
   "execution_count": 14,
   "id": "3deb8659-113d-4d04-88b7-936574679327",
   "metadata": {},
   "outputs": [],
   "source": [
    "# Step 4: Function to display weather data in a user-friendly way\n",
    "def show_weather(data, city_name):\n",
    "    \"\"\"\n",
    "    Display weather details in a formatted way.\n",
    "    \"\"\"\n",
    "    if data:\n",
    "        main = data['main']\n",
    "        wind = data['wind']\n",
    "        weather = data['weather'][0]\n",
    "        \n",
    "        current_time = datetime.now().strftime(\"%Y-%m-%d %H:%M:%S\")\n",
    "        \n",
    "        print(f\"------ Weather Report for {city_name.title()} ------\")\n",
    "        print(f\"Date & Time : {current_time}\")\n",
    "        print(f\"Weather     : {weather['description'].title()}\")\n",
    "        print(f\"Temperature : {main['temp']}°C\")\n",
    "        print(f\"Feels Like  : {main['feels_like']}°C\")\n",
    "        print(f\"Humidity    : {main['humidity']}%\")\n",
    "        print(f\"Pressure    : {main['pressure']} hPa\")\n",
    "        print(f\"Wind Speed  : {wind['speed']} m/s\")\n",
    "        print(\"---------------------------------------------\")\n",
    "    else:\n",
    "        print(\"City not found or error fetching data.\")"
   ]
  },
  {
   "cell_type": "code",
   "execution_count": 22,
   "id": "59226fc7-7955-46a7-97d2-00920330ec46",
   "metadata": {},
   "outputs": [
    {
     "name": "stdin",
     "output_type": "stream",
     "text": [
      "Enter city name:  Pune\n"
     ]
    },
    {
     "name": "stdout",
     "output_type": "stream",
     "text": [
      "------ Weather Report for Pune ------\n",
      "Date & Time : 2025-09-03 12:19:39\n",
      "Weather     : Overcast Clouds\n",
      "Temperature : 25.94°C\n",
      "Feels Like  : 26.5°C\n",
      "Humidity    : 73%\n",
      "Pressure    : 1007 hPa\n",
      "Wind Speed  : 4.69 m/s\n",
      "---------------------------------------------\n"
     ]
    }
   ],
   "source": [
    "# Step 5: Take input from user and run the app\n",
    "city = input(\"Enter city name: \")\n",
    "weather_data = get_weather(city)\n",
    "show_weather(weather_data, city)"
   ]
  }
 ],
 "metadata": {
  "kernelspec": {
   "display_name": "Python [conda env:base] *",
   "language": "python",
   "name": "conda-base-py"
  },
  "language_info": {
   "codemirror_mode": {
    "name": "ipython",
    "version": 3
   },
   "file_extension": ".py",
   "mimetype": "text/x-python",
   "name": "python",
   "nbconvert_exporter": "python",
   "pygments_lexer": "ipython3",
   "version": "3.13.5"
  }
 },
 "nbformat": 4,
 "nbformat_minor": 5
}
